{
 "cells": [
  {
   "cell_type": "code",
   "execution_count": null,
   "metadata": {},
   "outputs": [],
   "source": [
    "from flair.embeddings import WordEmbeddings, Sentence\n",
    "\n",
    "from flair.embeddings import FlairEmbeddings, ELMoEmbeddings\n",
    "\n",
    "# init embedding\n",
    "flair_embedding_forward = FlairEmbeddings('news-forward')\n",
    "\n",
    "# create a sentence\n",
    "sentence = Sentence('The grass is green .')\n",
    "\n",
    "# embed words in sentence\n",
    "flair_embedding_forward.embed(sentence)"
   ]
  },
  {
   "cell_type": "code",
   "execution_count": 2,
   "metadata": {},
   "outputs": [
    {
     "name": "stdout",
     "output_type": "stream",
     "text": [
      "pt loaded\n",
      "tensor([-0.0021,  0.0005,  0.0469,  ..., -0.0004, -0.0393,  0.0106])\n",
      "tensor([-0.0006,  0.0047,  0.0248,  ..., -0.0004, -0.0236,  0.0117])\n",
      "tensor([ 0.0011, -0.0032,  0.0156,  ..., -0.0061,  0.0112,  0.0100])\n",
      "tensor([-0.0034,  0.0003,  0.0256,  ..., -0.0026, -0.0118,  0.0455])\n",
      "tensor([ 0.0008,  0.0002,  0.1262,  ..., -0.0002,  0.0039,  0.0058])\n"
     ]
    }
   ],
   "source": [
    "from flair.embeddings import FlairEmbeddings\n",
    "from flair.data import Sentence\n",
    "\n",
    "# init embedding\n",
    "flair_embedding_forward = FlairEmbeddings(model = 'news-forward')\n",
    "\n",
    "print('pt loaded')\n",
    "\n",
    "# create a sentence\n"
   ]
  },
  {
   "cell_type": "code",
   "execution_count": 4,
   "metadata": {},
   "outputs": [
    {
     "name": "stdout",
     "output_type": "stream",
     "text": [
      "tensor([-0.0021,  0.0005,  0.0469,  ..., -0.0004, -0.0393,  0.0106])\n",
      "tensor([-0.0006,  0.0047,  0.0248,  ..., -0.0004, -0.0236,  0.0117])\n",
      "tensor([ 0.0011, -0.0032,  0.0156,  ..., -0.0061,  0.0112,  0.0100])\n",
      "tensor([-0.0034,  0.0003,  0.0256,  ..., -0.0026, -0.0118,  0.0455])\n",
      "tensor([ 0.0008,  0.0002,  0.1262,  ..., -0.0002,  0.0039,  0.0058])\n"
     ]
    }
   ],
   "source": [
    "sentence = Sentence('The grass is green .')\n",
    "\n",
    "# embed words in sentence\n",
    "flair_embedding_forward.embed(sentence)\n",
    "\n",
    "for token in sentence:\n",
    "    token_embedding = token.embedding\n",
    "    print(token_embedding)"
   ]
  },
  {
   "cell_type": "code",
   "execution_count": null,
   "metadata": {},
   "outputs": [],
   "source": [
    "#embedding = ELMoEmbeddings('small')\n",
    "glove_embedding = WordEmbeddings('glove')\n",
    "\n",
    "sentence = Sentence('the grass is green .')\n",
    "\n",
    "glove_embedding.embed(sentence)"
   ]
  },
  {
   "cell_type": "code",
   "execution_count": null,
   "metadata": {},
   "outputs": [],
   "source": [
    "for token in sentence:\n",
    "    print(token.embedding)"
   ]
  },
  {
   "cell_type": "markdown",
   "metadata": {},
   "source": [
    "## Sentences segmentation"
   ]
  },
  {
   "cell_type": "code",
   "execution_count": null,
   "metadata": {},
   "outputs": [],
   "source": [
    "text = \"This is a sentence. This is another sentence.\"\n",
    "\n",
    "from segtok.segmenter import split_single\n",
    "#sentences = [Sentence(sent, use_tokenizer=True) for sent in split_single(text)]\n",
    "sentences = [sent for sent in split_single(text)]"
   ]
  },
  {
   "cell_type": "code",
   "execution_count": null,
   "metadata": {},
   "outputs": [],
   "source": [
    "print(sentences)"
   ]
  },
  {
   "cell_type": "code",
   "execution_count": null,
   "metadata": {},
   "outputs": [],
   "source": [
    "flair_embedding_forward.embed(sentences)"
   ]
  },
  {
   "cell_type": "code",
   "execution_count": null,
   "metadata": {},
   "outputs": [],
   "source": [
    "for indiv_sentence in sentences:\n",
    "    for token in indiv_sentence:\n",
    "        print(token.embedding)"
   ]
  },
  {
   "cell_type": "markdown",
   "metadata": {},
   "source": [
    "## Glove"
   ]
  },
  {
   "cell_type": "code",
   "execution_count": 1,
   "metadata": {},
   "outputs": [],
   "source": [
    "import bcolz\n",
    "import numpy as np\n",
    "import pickle"
   ]
  },
  {
   "cell_type": "code",
   "execution_count": 2,
   "metadata": {},
   "outputs": [],
   "source": [
    "\n",
    "\n",
    "words = []\n",
    "idx = 0\n",
    "word2idx = {}\n",
    "vectors = bcolz.carray(np.zeros(1), rootdir=f'./Data/6B.100.dat', mode='w')\n",
    "\n",
    "with open(f'./Data/glove.6B.100d.txt', 'rb') as f:\n",
    "    for l in f:\n",
    "        line = l.decode().split()\n",
    "        word = line[0]\n",
    "        words.append(word)\n",
    "        word2idx[word] = idx\n",
    "        idx += 1\n",
    "        vect = np.array(line[1:]).astype(np.float)\n",
    "        vectors.append(vect)\n",
    "    \n",
    "vectors = bcolz.carray(vectors[1:].reshape((400000, 100)), rootdir=f'./Data/6B.100.dat', mode='w')\n",
    "vectors.flush()\n",
    "pickle.dump(words, open(f'./Data/6B.100_words.pkl', 'wb'))\n",
    "pickle.dump(word2idx, open(f'./Data/6B.100_idx.pkl', 'wb'))"
   ]
  },
  {
   "cell_type": "code",
   "execution_count": 3,
   "metadata": {},
   "outputs": [],
   "source": [
    "vectors = bcolz.open(f'./Data/6B.100.dat')[:]\n",
    "words = pickle.load(open(f'./Data/6B.100_words.pkl', 'rb'))\n",
    "word2idx = pickle.load(open(f'./Data/6B.100_idx.pkl', 'rb'))\n",
    "\n",
    "glove = {w: vectors[word2idx[w]] for w in words}"
   ]
  },
  {
   "cell_type": "code",
   "execution_count": 54,
   "metadata": {},
   "outputs": [
    {
     "data": {
      "text/plain": [
       "array([-0.038194, -0.24487 ,  0.72812 , -0.39961 ,  0.083172,  0.043953,\n",
       "       -0.39141 ,  0.3344  , -0.57545 ,  0.087459,  0.28787 , -0.06731 ,\n",
       "        0.30906 , -0.26384 , -0.13231 , -0.20757 ,  0.33395 , -0.33848 ,\n",
       "       -0.31743 , -0.48336 ,  0.1464  , -0.37304 ,  0.34577 ,  0.052041,\n",
       "        0.44946 , -0.46971 ,  0.02628 , -0.54155 , -0.15518 , -0.14107 ,\n",
       "       -0.039722,  0.28277 ,  0.14393 ,  0.23464 , -0.31021 ,  0.086173,\n",
       "        0.20397 ,  0.52624 ,  0.17164 , -0.082378, -0.71787 , -0.41531 ,\n",
       "        0.20335 , -0.12763 ,  0.41367 ,  0.55187 ,  0.57908 , -0.33477 ,\n",
       "       -0.36559 , -0.54857 , -0.062892,  0.26584 ,  0.30205 ,  0.99775 ,\n",
       "       -0.80481 , -3.0243  ,  0.01254 , -0.36942 ,  2.2167  ,  0.72201 ,\n",
       "       -0.24978 ,  0.92136 ,  0.034514,  0.46745 ,  1.1079  , -0.19358 ,\n",
       "       -0.074575,  0.23353 , -0.052062, -0.22044 ,  0.057162, -0.15806 ,\n",
       "       -0.30798 , -0.41625 ,  0.37972 ,  0.15006 , -0.53212 , -0.2055  ,\n",
       "       -1.2526  ,  0.071624,  0.70565 ,  0.49744 , -0.42063 ,  0.26148 ,\n",
       "       -1.538   , -0.30223 , -0.073438, -0.28312 ,  0.37104 , -0.25217 ,\n",
       "        0.016215, -0.017099, -0.38984 ,  0.87424 , -0.72569 , -0.51058 ,\n",
       "       -0.52028 , -0.1459  ,  0.8278  ,  0.27062 ])"
      ]
     },
     "execution_count": 54,
     "metadata": {},
     "output_type": "execute_result"
    }
   ],
   "source": [
    "glove['the']"
   ]
  },
  {
   "cell_type": "code",
   "execution_count": 4,
   "metadata": {},
   "outputs": [],
   "source": [
    "from segtok.tokenizer import split_contractions\n",
    "from segtok.tokenizer import word_tokenizer"
   ]
  },
  {
   "cell_type": "code",
   "execution_count": 43,
   "metadata": {},
   "outputs": [],
   "source": [
    "import h5py\n",
    "from itertools import *\n",
    "import matplotlib.pyplot as plt\n",
    "plt.style.use(\"ggplot\")\n",
    "\n",
    "hdf5_file='./HDF5_files/hdf5_10.hdf5'\n",
    "h5_file = h5py.File(hdf5_file, \"r\")\n",
    "ocr = h5_file.get('train_ocrs')"
   ]
  },
  {
   "cell_type": "code",
   "execution_count": 47,
   "metadata": {},
   "outputs": [],
   "source": [
    "contractions_full = []\n",
    "for counter, text in enumerate(ocr):\n",
    "    contractions = split_contractions(word_tokenizer(text))\n",
    "    for element in contractions:\n",
    "        element = element.lower()\n",
    "        contractions_full.append(element)"
   ]
  },
  {
   "cell_type": "code",
   "execution_count": 48,
   "metadata": {},
   "outputs": [
    {
     "name": "stdout",
     "output_type": "stream",
     "text": [
      "['oe', 'the', 'sunday', 'star', 'washington', ',', 'd.c.', 'june', 'y', '1963', 'heart', 'association', 'moves', 'to', 'reduce', 'cigarette', 'use', 'new', 'yore', ',', 'june', '8', '(', 'ap', ')', '—', 'the', 'american', 'heart', 'associa-ulon', 'went', 'on', 'record', 'today', 'foi', 'the', 'first', 'time', 'in', 'favor', 'of', 'acthe', 'steps', 'to', 'discourage', 'clparettr', 'smoking', 'on', 'the', 'ground', 'it', 'fr', 'heimtul', 'to', 'health', ',', 'the', 'action', 'by', 'the', 'board', 'of', 'directors', 'opens', 'the', 'way', 'fc', 'the', 'asvocjution', 'to', 'work', 'with', '«', 'ther', 'proips', 'in', 'campaizns', 'fiist', 'poking.', 'the', 'association', 'said', 'a', 'i56', '¢', 'wport', 'by', '4', 'spectal', 'committer', 'of', 'physicians', 'and', 'scientists', 'shawed', 'that', 'dcath', 'rates', 'ir', 'middle-aged', 'men', 'from', 'heart', 'attacks', 'were', '60', 'to', '150', 'per', 'cen', ':', 'hicher', 'among', 'heavy', 'ciynrett', ':', 'snvakers', 'than', 'among', 'nou-emckers', ',', '“', 'this', 'statistical', 'assnoialiot', '¢', 'es', 'not', 'prove', 'that', 'heary', 'cit', 'aceite', 'emoking', 'causes', 'cord’', '.', '.', 'heart', 'disease.', '”', 'it', 'sald.', '“', 'but', 'th', 'data', 'strongly', 'suggests', 'ta', 'heavy', 'cigarette', 'smoking', 'ma-contribute', 'to', 'or', 'accelerate', 'th', 'development', 'of', 'coronary', 'hens', 'disrase', 'or', 'ils', 'complications', '”', 't.', 'saad', 'additional', 'evicdcenec', 'shee', '1960', 'conffrms', 'ard', 'hie', 'cement', 'oh', 'oogeloy', 'geck', 'the', 'plain', 'dealer', 'cleveland', ',', 'ohio', 'june', '9', ',', '1963', 'aera', 'smoking', 'discouraged', 'by', 'heart', 'association', 'new', 'york', '(®--', 'the', 'american', 'heart', 'association', 'went', 'on', 'record', 'yesterday', 'for', 'the', 'first', 'time', 'in', 'favor', 'of', 'active', 'steps', 'to', 'courage', 'cigarette', 'smoking', 'on', 'the', 'ground', 'it', 'is', 'harmful', 'to', 'health.', '8', 'are', 'the', 'action', 'by', 'the', 'board', 'of', 'directors', 'opens', 'the', 'way', 'for', 'the', 'association', 'tn', 'work', 'with', 'other', 'groups', 'in', 'campaigns', 'against', 'smoking.', '_', 'the', 'association', 'said', 'a', '1960', 'report', 'by', 'a', 'special', 'cunmmittee', 'of', 'physicians', 'and', 'scientists', 'showed', 'that', 'death', 'rates', 'in', 'mid', ':', 'die-aged', 'men', 'from', 'heart', 'attacks', 'were', '50', 'to', '150', \"'-\", 'tugher', 'among', 'heavy', 'cigarelte', 'smokers', 'than', 'among', 'non-smokers.', 'it', 'said', 'additional', 'evidence', 'since', '1960', 'confirms', 'and', 'supplements', 'the', 'earlier', 'find.', 'ngs', '1', 'et', 'nnn', 'eee', 'three', '|', 'chicago', 'tribune', 'chicago', ',', 'illinois', 'june', '9', ',', '1953', 'heart', 'society', 'finds', 'cigarets', 'abet', 'attacks', 'new', 'york', ',', 'june', '8', '(#--', 'the', 'american', 'heart', 'association', 'went', 'on', 'record', 'today', 'for', 'the', 'first', 'time', 'in', 'favor', 'of', 'active', 'steps', 'to', 'discourage', 'cigaret', 'smoking', 'on', 'the', 'ground', 'it', 'is', 'harmful', 'to', 'health.', 'the', 'acti', 'by', 'the', 'board', 'of', 'directors', 'opens', 'the', 'way', 'for', 'the', 'association', 'to', 'work', 'with', 'other', 'groups', 'in', 'campaigns', 'against', 'smoking.', 'the', 'association', 'said', 'a', '2060', 'report', 'by', 'a', 'special', 'of', 'physicians', 'and', 'sclentists', 'showed', 'that', 'death', 'rates', 'in', 'middle-aged', 'men', 'from', 'heart', 'attacks', 'were', '60', 'to', '150', 'per', 'cent', 'higher', 'among', 'heavy', 'cigarel', 'emeckers', 'than', 'among', 'fon-smeckers.', '“', 'these', 'slatistics', 'do', 'not', 'prove', 'that', 'heavy', 'cigaret', 'smoking', 'causes', 'corcnary', 'heart', 'disease', ',', 'it', 'sald', ',', '“', 'but', 'the', 'data', 'strongly', 'suggests', 'that', 'heavy', 'cigarel', 'smoking', 'may', 'contribute', 'to', 'or', 'accelerate', 'the', 'development', 'of', 'coronary', 'heart', 'disease', 'or', 'its', 'complications.', '”', '1180034005', 'lungcancer', 'called', 'big', 'killer', 'of', '2-pack-a-day', 'smokers', 'by', 'pierre', 'c.', 'fraley', 'survey.', 'careinoma', 'of', 'the', 'lunr', 'of', 'the', 'bulletin', 'stajs', 'laccounted', 'for', '12', 'per', 'cent', 'of', 'all', 'auantic', 'city', ',', 'june', '6', '--', 'the', '|', '928ths', 'in', 'this', 'group', 'and', 'was', 'sec', '-', 'american', 'cancer', 'socicty', \"'s\", 'long', '-', 'ond', 'only', 'beroneny', 'artery', 'dis', 'range', 'study', 'of', '188.000', 'men', 'be', '-', '|', '“\"', 'srne', 'death', 'rate', 'from', 'carcinoma', 'tween', 'the', 'ages', 'of', '50', 'and', '70', 'con.', 'of', 'the', 'lung', 'increases', 'with', 'the', 'tinues', 'to', 'indicate', 'that', 'lung', 'can', '-', 'lamount', 'of', 'cigarette', 'smoking.', 'cer', 'and', 'cigarette', 'smoking', 'go', 'hand-in-hand.', 'less', 'with', 'pipe', 'smokers', 'dr.', 'e.', 'cuyler', 'hammond', ',', 'diree-j', 'lung', 'cancer', 'also', 'appears', 'to', 'be', 'tor', ',', 'and', 'dr.', 'daniel', 'horn', ',', 'assist', ':', '{', 'associated', 'with', 'pipe', 'smoking', 'but', 'ant', 'director', 'of', 'statistical', 're', '‘', 'to', 'a', 'far', 'lesser', 'degree', 'than', 'with', 'search', ',', 'reported', 'today', 'at', 'the', '{', 'cigarette', 'smoking.', 'there', 'seems', '104th', 'annual', 'meeting', 'of', 'the', '!', 'to', 'be', 'no', 'significant', 'tieup', 'between', 'american', 'medical', 'association', 'on', '{', 'cigar', 'smoking', 'and', 'lung', 'cancer.', 'a', '2-month', 'follow-up', 'on', 'the', 'the', 'rate', 'of', 'lung', 'cancer', 'was', 'smoking', '‘', 'habits', 'and', 'fate', 'of', 'menyhigh', 'in', 'cigarette', 'smokers', 'and', 'low', 'in', 'this', 'age', 'group.', 'in', 'non-smokers', 'regardless', 'of', 'the', 'report', 'is', 'an', 'extension', 'of', '|', 'whether', 'they', 'lived', 'in', 'a', 'city', 'or', 'in', 'the', 'ene', 'at', 'the', 'ama', 'convention', '!', 'the', 'country.', 'however', ',', 'smoking', 'last', 'year', 'dealing', 'with', 'overalljhabits', 'were', 'not', 'able', 'to', 'account', 'death', 'rates', 'that', ',', 'caused', 'tobacco', '}', 'for', 'all', 'of', 'the', 'higher', 'death', 'rate', 'stocks', 'to', 'plummet', 'a', 'total', 'of', '$', '77', ',-|', 'from', 'lung', 'cancer', 'in', 'urban', 'areas', '000,000', 'in', 'a', 'few', 'days.', 'oo', 'with', 'rural', 'areas.', 'during', 'the', 'months', 'of', 'the', 'bare', 'among', 'non-smokers', '|', 'survey', 'there', 'were', '152', 'deaths', 'today', \"'s\", 'report.', 'concentrating', 'from', 'earcinoma', 'of', 'the', 'lung', 'mainly', 'on', 'the', 'most', 'widespread', 'among', 'the', '108000', 'men', 'who', 'said', 'type', 'of', 'lung', 'cancer', ',', 'carcinoma', ',', 'cam', ':', 'to', 'these', 'conclusions', ':', 'ratio', 'of', '145', 'out', 'of', 'every', '100,000.', 'compares', 'with', 'a', 'death', 'rate', 'men', 'who', 'have', 'never', 'smoked.', '”', 'it', 'is', '“', 'an', 'important', 'cause', 'of', 'death', 'among', 'men', 'i', '“', 'in', 'this', 'group', 'the', 'rate', 'for', 'men', 'smoking', 'twoor', 'more', ',', '.', 'packs', 'of', 'cigarettes', 'a', 'day.', '\"', 'iwith', 'history', 'of', 'regular', 'cigar-there', 'were', '4430', 'men', 'who', 'cle', 'smoking', 'was', 'about', '29', 'times', 'smoked', 'two', 'packs', 'or', 'more', 'in', 'the', '%', '8', 'high', 'as', 'the', 'rate', 'for', 'men', 'who', 'never', 'smoked', ',”', 'the', 'doctors', 're', '-', 'ported.', 'the', 'evening', 'bulletin', 'industryraps', '|\"', 'sue', '\"', '6,isss', 'cancer', 'report', '|', 'ov.', '\"', 'scoerar', 'ars', 'attacks', 'figures', 'new', 'york', ',', 'june', '6', '—(', 'up', ')—', 'timothy', 'b.', 'hartnett', ',', 'chairman', 'of', 'the', 'tobacco', 'industry', 'research', 'comittee', ',', 'today', 'urged', 'smokers', 'mot', 'to', 'be', '“', 'misled', 'by', 'sweeping', 'generalities', '”', 'in', 'a', 'doctors’', 'report', 'on', 'the', 'relationship', 'between', 'jat', 'the', 'start', 'of', 'the', 'survay', 'over', 'three', 'years', 'ago', ',”', 'he', 'sald.', 'hartnett', 'also', 'charged', 'that', 'the', 'quertionnaire', 'used', 'by', 'drs.', 'e', 'cuyler', 'hammond', 'and', 'daniel', 'horn', 'contained', 'bias', '“', 'so', 'great', 'as', 'to', 'make', 'questionable', 'the', 'validity', '{', 'ef', 'any', 'conclusions', '...”', 'same', 'of', 'amoking', 'and', 'lung', 'cancer.', '—', '§', 'uhe', 'questions', 'were', 'yeading', ',', 'hort-hartnett', ',', '@', 'hose', 'organization', ']', 'nett', 'said', ',', 'and', 'use', 'of', 'the', 'term', 'is', 'conducting', 'its', 'own', 'survey', 'into', '|', '‘', 'heavy', 'smoking', '”', 'suggested', 'excess', 'lung', 'cancer', ',', 'charged', 'that', 'the', 're', '-)', 'which', '“', 'doctors', 'generally', 'oppose', 'port', 'releared', 'today', 'in', 'atlantic', '}', '«..', 'in', 'any', 'human', 'ectivity.', 'city', '“', 'ignores', 'important', 'enviror', '-}|', 'laboratory', 'rescareh', 'during', 'the', 'mental', ',', 'georraphical', ',', 'occupation', '-/', 'past', 'year', 'has', 'failed', 'to', ',', 'provide', 'al', ',', 'physical', 'and', 'emotional', 'factors', '/', '@', 'ny', 'proof', 'that', 'smoking', 'causes', 'eflecting', 'disease', 'and', 'longevity.', '”', '|', 'lung', 'cancer.', 'hartnett', 'sald.', 'they', 'smoked', 'regularly.', 'this', 'is', 'ai', 'eg', '“', 'the', 'rate', 'for', 'two-pack-a-day-or-more', 'cigarette', 'smokers', 'is', 'over', '90', 'times', 'as', 'high', 'as', 'the', 'rate', 'for', 'men', 'who', 'have', 'never', 'smoked', ',”', 'the', 'report', 'went', 'on.', '“', 'the', 'rate', 'for', 'men', 'who', 'have', 'given', 'up', 'cigarette', 'smoking', 'is', '14', 'times', 'as', 'high', 'as', 'the', 'rate', 'for', 'men', 'who', 'have', 'never', 'smoked', 'but', 'only', 'half', 'as', 'high', 'as', 'for', 'men', 'who', 'were', 'smoking', 'less', 'than', 'a', 'pack', 'of', 'cigarettes', 'a', 'da', ')', 'at', 'the', 'time', 'of', 'que-tinnine.', '”', '|', 'in', 'the', 'light', 'of', 'these', 'findings.', '{', 'ir', 'doctors', 'said', ',', 'it', 'seems', 'prob-able', 'that', 'giving', 'up', 'smoking', 'even', 'after', 'years', 'of', 'regular', 'smoking', 'may', 'result', 'in', 'a', 'reduction', 'in', 'the', 'rivk', 'of', 'developing', 'sung', 'cancer.', 'however', ',', 'the', 'number', 'of', 'cases', ':', 'mow', 'available', 'for', 'detailer', '!', 'analy', '-*', 'sis', 'is', 'not', 'great', 'enough', 'to', 'state', 'that', 'such', 'a', 'conclusion', 'has', 'been', ';', 'proved', 'beyond', 'reasonable', 'doubt.', '\"', 'more', 'evidence', 'is', 'needed', ',', 'they’', 'sai', ':', 'survey', 'of', 'specialists', 'tn', 'another', 'type', 'of', 'survey', 'con', '-|', 't', 'ducied', 'by', 'the', 'american', 'cancer', 'society', ',', 'a', 'majority', 'of', 'chest', 'sur-geons', ',', 'cancer', 'researchers', 'and', 'pathologists', 'who', 'were', 'questiou-ed', 'said', 'they', 'believed', 'heavy', 'agar-ette', 'smoking', 'may', 'lead', 'to', 'lung', 'cancer.', 'dr.', 'charles', 's.', 'cameron', ',', 'medi-1', 'and', 'scientific', 'director', 'of', 'the', 'acs', ',', 'reported', 'on', 'the', 'results', 'of', 'a', 'prg', 'sued', '?', 'the', 'evening', 'bulletin', 'fniladelphia', ',', 'penna.', 'june', '6', ',', '1955', 'sixty-three', 'per', 'cent', 'of', 'the', 'chest', 'surgeons.', '54', 'per', 'cent', 'of', 'the', 'researchers', 'and', 'half', 'of', 'the', 'path-ologists', 'checkei', '“', 'yes', '”', 'to', 'the', 'statement', 'that', 'heavy', 'smoking', 'of', 'cigarettes', 'may', 'lead', 'to', 'lung', 'can-cer', ',', 'the', '“', 'no', \"'s\", '”', 'ranged', 'from', 'four', 'to', 'seven', 'per', 'cent.', 'the', 'remainder', 'were', 'uncertain.', 'the', '\\\\-', 'o', 'reports', 'were', 'presented', 'at', 'a', 'symposium', 'on', '@', 'ancer', 'and', 'medicine', 'at', 'the', 'opening', 'session', '{', 'of', 'the', 'ama', 'convention.', '25,000', 'are', 'attending', 'some', '13.000', 'doctors', 'and', '12,000', 'guests', 'are', 'scheduled', 'to', 'attend', 'the', 'week-long', 'series', 'of', 'meetings.', 'on', 'tuesday', 'evening.', 'dr.', 'elmer', '|', 'hess.', 'of', 'erie', ',', 'will', 'be', 'inaugurated', 'as', 'president', 'of', 'the', 'ama.', 'he', 'suce', 'ceeds', 'dr.', 'walter', 'b.', 'martin', ',', 'of', 'norfolk', ',', 'va.', 'another', 'highlight', 'of', 'the', 'con-vention', 'will', 'be', 'a', 'symposium', 'on', 'the', 'contro', '!', 'of', 'polio.', 'among', 'the', 'experts', 'scheduled', 'to', 'participate', 'are', 'dr.', 'jonas', 'e.', 'salk', ',', 'developer', 'of', 'the', 'polio', 'vaccine', ';', 'dr.', 'leonard', 'a.', 'scheele', ',', 'surgeon', 'general', 'of', 'the', 'u.', 's.', 'public', 'health', 'service.', 'and', 'dr.', 'thomas', 'francis', ',', 'jr', ',', 'of', 'the', 'university', 'of', 'michigan.', 'who', 're-ported', 'on', 'the', 'success', 'of', 'the', 'vac', 'cine', 'used', 'in', 'a', 'mass', 'test', 'last', 'year.', 'detroit', 'free', 'press', 'detroit', ',', 'michigan', 'june', '7', ',', '1955', 'doctors', 'file', 'report', 'cancer', 'danger', 'seen', 'in', 'use', 'of', 'whisky', 'gpoelal', 'to', 'the', 'free', 'press', 'atlantic', 'city', '—', 'whisky-drinking', 'has', 'been', 'added', 'to', 'smoking', 'as', 'a', 'possible', 'cause', 'of', 'cancer', ',', 'three', 'physicians', 'revealed', 'here', 'monday', 'in', 'a', 'report', 'to', 'the', 'american', 'medical', 'association.', 'the', 'risk', 'of', 'tons', 'greatiy', 'or', 'voice', 'larynx', ',', '2', 'cia', ',', 'by', 'haa', 'ema', 'with', 'heavy', 'drinking.', 'port', 'on', 'interviews', 'in', 'sweden', ',', 'india', 'an', '¢', 'the', 'united', 'states', ',', 'ben', 'more', 'than', 'siz', 'eamokers', ',', 'they', 'found', ',', 'ut', 'the', 'same', 'risk', 'as', 'men', 'who', 'amoke', '16', 'to', '34', 'cigarets', '——', 'ae', 'and', 'run', 'oking', 'alone', ',', 'or', 'com', '-/', 'dally', ',', 'from', 'this', 'and', 'other', 'studies', ',', 'opinion', 'research', 'authorities', '”', 'con', '-', 'they', 'sald', 'the', 'risk', 'of', 'cancer', 'inj', 'sidered', 'that', 'the', 'poll', 'was', '“', 'biased', ',', 'tha', 'larynx', 'increases', 'with', 'tho', '/', 'nonscientific', 'q', '@', 'mount', 'of', 'elgarets', 'amoked.', 'cigariahortcomings', 'and', 'and', 'filled', 'with', 'defect', '”', '‘', 'of', 'utes', 'hoveber', '10', ',', '1982', '<', 're', ':', 'grant', 'no.', '1357r1', 'fabian', '3.', 'ionetti', ',', 'ph.d', ',', ',', 'boston', 'univeraity', 'school', 'of', 'medicine', 'no', '89', 'hast', 'concord', 'street', '(', 'le', 'boston', ',', 'ma', '02115', '~', 'dear', 'doctor', 'lionettd', ':', ':', 'the', 'council', ']', 'for', 'tabacco', 'research', '-', 'u.s.a.', ',', 'inc.', 'is', 'pleased', 'to', 'avard', 'you', '@', 'yenewal', 'grant', 'in', 'ths', 'awournt', 'of', '$', '48,990', 'fer', 'the', 'pericd', 'december', '1', ',', '1951', 'throwh', 'novernber', '30', ',', '1982', 'for', 'the', 'etudy', 'proposed', 'in', 'your', 'application', 'dated', '?', 'dune', '20', ',', '1981.', 'it', 't', 'is', 'mdorstood', 'that', 'this', 'grant', 'is', 'made', 'subject', 'to', 'scoeptance', 'by', 'the', 'institutional', 'authorities', ',', 'as', 'heretofore', 'since', 'it', 'concludes', 'the', 'period', 'originally', 'rrocranamd', 'for', 'this', 'bowity', ',', 'it', 'is', 'considerad', 'terminal', 'for', 'the', 'project', ',', 'and', 'a', 'comprehensive', 'final', 'report', 'will', 'be', 'esoncted', 'at', 'your', 'convenience', 'after', 'its', 'temaination', ',', 'as', 'wll', 'as', 'reprints', 'of', 'any', 'papers', 'resulting', 'from', 'the', 'oremt', 'thereafter.', 'rew', 'proposals', 'may', 'be', 'acceytable', 'for', 'consideration', 'de', 'novo', 'in', 'ommpetition', 'for', 'available', 'funds', 'in', 'the', 'licht', 'of', 'progras', 'status', 'and', 'priorities', 'et', 'the', 'tive', 'of', 'suizalnsion.', 'if', 'you', 'plan', 'te', 'submit', 'ary', 'euch', 'proposals', ',', 'it', 'will', 'be', 'well', 'to', 'send', 'in-formal', 'outlinas', 'of', 'the', 'arojects', 'you', 'have', 'in', 'mind', ',', 'as', 'carly', 'as', 'possible', ',', 'so', 'that', 'our', 'program', 'planning', 'grow', '?', 'can', 'advise', 'you', 'wheather', 'forvel', 'application', 'can', 'be', 'recommended.', 'these', 'msy', 'be', 'handled', 'through', 'your', 'cik', 'staff', 'contact.', 'your', 'attantion', 'is', 'particularly', 'called', 'to', 'the', 'enclose', '?', '“', 'important', 'prooaiural', 'informtion', 'for', 'grantees', '\".', 'dr', ',', 'vincent', 'f.', 'limanti', ',', 'associate', 'research', 'director', ',', 'will', 'continue', 'to', 're-present', 'our', 'sclentific', 'staff', 'as', 'primary', 'contact', 'with', 'your', 'crant.', 'ie', 'will', 'le', 'the', 'per', 'son', 'to', 'consult.', 'about', 'any', 'questions', 'or', 'problems', 'that', 'may', 'erise', ',', 'and', 'should', 'be', 'kept', 'informed', 'about', 'the', 'srocress', 'of', 'the', 'stirty.', 'please', '£', '311', 'in', 'the', 'atbached', '“', 'notice', 'of', 'rasearch', 'projost', '™', 'anc', 'return', 'it', 'to', 'me.', 'cordially', ',', '12,047.50', '&', 'robert', 'f.', 'gertenbach', 'encis.', 'co', ':', 'robert', 'n.', 'jorian', 'reg', ':', 'am', 'bee', ':', 'audftor', ',', 'f', ',', \"ro'k\", ',', 'vel', ',', 'bc', 'sen.', 'bs', 'everett', 'jordan', ':', 'repe', 'le', 'h.', 'fountain', ':', 'rep.', 'harley', 'staggers', ':', 'rep.', 'edward', 'i.koch', ':', 'hkeo485294', '“', 'regarded', 'the', 'fcc', 'ban', 'as', '‘', 'an', 'unwarranted', ',', '111-advised', 'and', 'improper', 'effort', 'to', 'extend', 'governnent', 'control', 'over', 'business', 'and', 'industry', 'by', 'administrative', 'dictation.', '\"\"]', 'regard', 'the', 'proposal', 'of', 'the', 'federal', 'communications', 'commission', 'for', 'a', 'ban', 'on', 'advertising', 'of', 'cigarettes', 'through', 'television', 'and', 'radio', 'media', 'as', 'an', 'unwarranted', ',', '111l', '~', 'advised', 'and', 'improper', 'effort', 'to', 'extent', 'government', 'control', 'over', 'business', 'and', 'industry', 'by', 'administrative', 'dictation.', '\"', 'tle', '4s', 'an', 'extention', 'of', 'earlier', 'efforts', ',', 'successfully', 'resisted', 'so', 'far', 'by', 'congress', ',', 'by', 'both', 'the', 'federal', 'trade', 'commission', 'and', 'the', 'fcc', 'to', 'exereise', 'control', 'over', 'the', 'tobacco', 'industry', 'beyond', 'the', 'extent', 'of', 'their', 'authority', 'and', 'in', 'an', 'area', 'properly', 'reserved', 'for', 'legislative', 'jurisdiction', ',', '’', '(', 'upi', '2', '/', '5', '/', '69', ')', '\"', 'said', 'he', 'knew', 'of', 'no', 'legal', 'authority', 'by', 'which', 'fcc', 'could', 'enforce', 'its', 'proposed', 'ban', 'on', 'broadcast', 'cigarette', 'advertising.', '\"', '(', 'upi', '2', '/', '5', '/', '69', ')', '\"', 'forecasting', 'early', 'hearings', 'on', 'the', 'issue', ',', 'offered', 'a', 'critical', 'comment', 'that', 'seemed', 'to', 'reflect', 'a', 'common', '‘', 'attitude', 'on', 'the', 'part', 'of', 'committee', 'nembers', ',.', '\"\\'', 't', 'think', 'some', 'of', 'the', 'regulatory', 'agencies', 'are', 'doing', 'sone', 'of', 'those', 'things', 'the', 'wrong', 'way.', '.', '\"\\'', 'rhey', \"'ve\", 'been', 'guilty', 'of', 'it', 'before', '=-', 'taking', 'a', 'stand', 'of', 'this', 'kind', 'on', 'an', 'issue', 'which', 'they', 'know', 'the', 'congress', 'would', 'probably', 'be', 'considering', 'shortly.', '1', 'do', \"n't\", 'think', 'congress', 'likes', 'this', 'approach', '--', 'and', 'that', 'is', 'without', 'regard', 'to', 'the', 'particular', 'issue', 'of', 'cigarette', 'smoking.', '\\'\"', '(', 'upi', '2', '/', '5', '/', '69', ')', '\"', 'a', 'federal', 'communications', 'proposal', 'to', 'ban', 'cigarette', 'advertising', 'from', 'television', 'and', 'radio', 'was', '‘', 'long', 'overdue.’', '\"', 'he', 'will', 'do', 'what', 'he', 'can', 'to', 'whip', 'up', 'congressional', 'support', 'for', 'the', 'fcc', 'proposal', ',', 'he', 'called', 'on', 'members', 'of', 'the', 'public', 'to', 'direct', 'their', 'support', 'to', 'the', 'fcc', '-', 'and', 'their', 'congresamen.', '\"\"', 'we', 'are.', 'going', 'to', 'have', 'a', 'fight', 'on', 'our', 'hands', ',\\'\"', '(', 'upt', '2', '/', '5', '/', '69', ')', '\\\\', 'cassette', 'recorders', 'up', '150', '%', 'sales', 'expected', 'to', 'hit', '$', '350', 'million', 'in', '1970', ';', 'tape', 'volume', 'also', 'soars', 'time', 'was', 'when', 'only', 'a', 'relatively', 'few', 'americans', 'owned', 'tape', 'tre-corders.', 'most', 'of', 'them', 'were', 'the', '“', 'hi-fi', 'hobbyists.', 'who', 'were', 'willing', 'to', 'put', 'up', 'with', 'the', 'need', 'for', 'threading', 'tape', 'from', 'one', 'reel', 'to', 'another', '...', 'with', 'the', 'agony', 'of', 'watching', 'tape', 'come', 'spilling', 'out', 'of', 'the', 'machinery', 'in', 'wild', 'disarray', 'because', 'of', 'some', 'malfunction.', 'the', 'dedicated', 'hi-fi', 'aficionados', 'stil', ']', ',', 'for', 'the', 'most', 'part', ',', 'stay', 'with', 'their', 'open-reel', 'machines.', 'but', 'mil-lions', 'of', 'the', 'more', 'fumble-fingered', 'public', 'have', 'come', 'into', 'the', 'tape', 're-corder', 'market', ',', 'as', 'a', 'result', 'of', 'the', 'ad-yent', 'of', 'the', 'cassette', '—', 'the', 'self-con-tained', 'unit', 'in', 'which', 'tape', 'moves', 'from', 'one', 'reel', 'to', 'the', 'other', 'without', 'need', 'for', 'the', 'user', 'ever', 'to', 'touch', 'the', 'reel', 'or', 'the', 'tape.', 'so', 'papular', ',', 'so', 'ubiquitous', 'has', 'the', 'cassette', 'recorder', 'become', 'that', 'indus-try', 'leaders', 'estimate', 'u.', 's.', 'retail', 'vol-ume', 'will', 'reach', '$', '350', 'million', 'in', '1970.', 'this', 'would', 'represent', 'an', 'increase', 'of', 'more', 'than', '150', '%', 'over', '1969.', 'american', 'druggist', \"'\", '’s', 'most', 're-cent', 'big', 'ticket', 'survey', 'indicated', 'that', 'more', 'than', '16,000', 'drug', 'stores', 'car-ried', 'cassette', 'recorders.', 'nor', 'is', 'the', 'business', 'limited', 'to', 'the', 'recording', 'devices.', 'a', 'cassette', 're-corder', 'is', 'of', 'no', 'use', 'without', 'cassette', 'tape', '—', 'and', 'sales', 'of', 'blank', 'tape', 'are', 'expected', 'to', 'exceed', '$', '80', 'million', 'this', 'year.', 'while', 'no', 'one', 'knows', 'for', 'sure', '—', 'because', 'the', 'market', 'is', 'still', 'in', 'its', 'for-mative', 'stages', '—', 'what', 'percentage', 'of', 'the', 'business', 'is', 'done', 'by', 'drug', 'stores', ',', 'guesses', 'by', 'those', 'in', 'the', 'field', 'vary', 'from', '151', '%', 'to', '17', '%.', 'buying', 'guide', '91', 'wer', 'product', 'grams', '“', 'ot', '-', 'ake', '7', 'ae', 'ae', 'ee', '.', 'ot', '—', '“', 'ot', 'ts', 'wm', 'tor', 'fe', 'sty', 'te', '‘$', 'ristol', 'labs', 'has', 'shanged', 'its', 'cash', 'dis', '-', '“', 'gount', 'policy', 'to', '2', '%-', '35', 'days', ',', 'net', '45', 'days', ',', 'based', 'on', 'date', 'of', 'invoisé', ',', 'retroactive', 'to', 'july', '1.', '°', '0n', 'july', '1', ',', 'the', 'company', 'had', 'adopted', '-', 'a', 'policy', 'of', '2', '%-', '15', 'days', ',', 'net', '30', 'days.', 'but', 'it', 'reports', 'that', '“', 'how', 'that', 'we', 'have', 'had', 'a', 'month', \"'s\", 'experience', 'behind', 'us', ',', 'we', 'realize', 'these', 'terms', 'placed', 'an', 'untimely', 'burden', 'on', 'our', 'customers.', '”', '-', 'a', 'philips', 'roxane', 'has', 'rescinded', 'a', 'change', 'in', '———', '_', 'wholesaler', 'terms', 'from', '1', '%-', '30', 'days', 'to', '1', '%-', '10', 'days.', '\"', 'wefind', '[', 'the', 'change', ']', 'willworkacons', 'ider-able', 'hardship', 'onmany', 'wholesalers', ',\"', 'the', 'company', 'said.', '\"', 'philips', 'roxane', 'remains', 'a', '20', '%', 'lire', 'at', '1', '%-', '30', 'days.', '\"', 'a', 'trademark', 'applications', 's', '\"', 'clockwork', '\"', ',', 'for', 'a', 'laxative', ',', 'by', 'carter-wallace.', '.', '.*', 'bions', '\"', ',', 'for', 'a', 'breath', 'freshener', ',', 'by', 'miles', 'labs', '...', '\"', 'medrol', 'acne', 'lotion', '\"', ',', 'for', 'a', 'medicated', 'skin', 'prepara', '~', 'tion', ',', 'by', 'upjohn', '...*', 'sucaryl', 'sugar', '\"', ',', 'for', 'a', 'low', 'calorie', 'sweetener', ',', 'by', 'abbott.', '.', '.\"', 'extra', 'hours', '\"', 'and', '\"', 'stay', 'free', '\"', ',', 'for', 'sanitary', 'napkins', ',', 'by', 'johnson', '&', 'johnson', '...', '“', 'second', 'wind', '\"', ',', 'for', 'keep', 'alert', 'wafers', ',', 'py', 'bristol-myers.', '--.', '\"', 'teddy', 'bare', '\"', ',', 'for', 'sun', 'tanning', 'lotion', ',', 'by', \"chesebrough-pond's.\", 'g', 'an', 'eyeglass', 'repair', 'kit', 'that', 'comes', 'complete', 'with', 'nose', 'and', 'temple', 'comfort', 'pads', ',', 'temple-tites', ',', 'replacement', 'screws', ',', 'precision', 'screw-driver', 'and', 'magnifying', 'glass', 'is', 'being', 'marketed', 'py', 'evans', 'case', 'co.', '$', '1.49.', 'a', 'products', 'in', 'test', 'markets', ':', '\"', 'shield', '\"', ',', 'a', 'deodorant', 'soap', ',', 'by', 'lever', 'bros', '...', '*\"', 'vitamite', '\"', ',', 'a', 'vitamin-fortified', 'thirst', 'quencher', 'drink', 'in', 'powder', 'form', ',', 'by', 'gold', 'medal', 'products', '...', '\"', 'help', '\"', ',', 'a', 'drink', 'concentrate', 'for', 'children', ',', 'by', 'h.', 'j.', 'heinz', '...\"', 'vantage', '\"', 'cigarets', 'by', 'reynolds.', 's', 'a', 'humidifier', 'with', 'a', 'spout', 'that', 'rotates', '130', '°', ',', 'enabling', 'users', 'to', 'direct', 'the', 'mist', 'to', 'any', 'desired', 'area', ',', 'is', 'available', 'from', 'devilbiss.', 'called', 'the', '\"', 'director', '\"', ',', 'it', 'retails', 'at', '$', '17.95.', 'a', 'reversing', 'the', 'trend', 'toward', 'higher', 'prices', ',', 'm.', 'hohner', ',', 'inc', ',', 'has', 'reduced', 'the', 'suggested', 're', '-', 'tail', 'price', 'of', 'the', '“', 'american', 'ace', '\"', 'harmonica', '‘', 'from', '$', '1.50', 'to', '$', '1', '.', '~', 'philip', 'morris.', '100', 'park', 'avenue', ',', 'new', 'york,n.', 'y', ',', '10017.', 'telephone', '(', '212', ')', '679-1800', 'oe', 'april', '5', ',', '1982', 'mr.', 'hans', 'g.', 'storr', 'treasurer', 'the', 'council', 'for', 'tobacco', 'research-u.s.a.', ',', 'inc.', '|', '110', 'bast', '59th', 'street', '.', 'new', 'york', ',', 'new', 'york', '10022', 'dear', 'mr.', 'storr', ':', 'enclosed', 'is', 'philip', 'morris', 'incorporated', \"'s\", 'check', 'for', '$', '414,296.00', 'representing', 'our', 'company', \"'s\", 'eighth.', 'and', 'ninth', 'installments', 'of', '1981', 'dues', '...', 'sincerely', ',', 'de', 'slt', 'cee', 'helen', 'frustace', 'enclosure', 'marlboro.', 'benson', '&', 'hedges', 'merit', 'virginia', 'slims', '©', 'parliament', 'miller', 'high', 'life', 'lite', 'lowenbrau', '7up', '_', '“', 'diet', '7up', 'lungcancer', 'called', 'big', 'killer', 'of', '2-pack-a-day', 'smokers', 'by', 'pierre', 'c.', 'fraley', 'survey.', 'careinoma', 'of', 'the', 'lunr', 'of', 'the', 'bulletin', 'stajs', 'laccounted', 'for', '12', 'per', 'cent', 'of', 'all', 'auantic', 'city', ',', 'june', '6', '--', 'the', '|', '928ths', 'in', 'this', 'group', 'and', 'was', 'sec', '-', 'american', 'cancer', 'socicty', \"'s\", 'long', '-', 'ond', 'only', 'beroneny', 'artery', 'dis', 'range', 'study', 'of', '188.000', 'men', 'be', '-', '|', '“\"', 'srne', 'death', 'rate', 'from', 'carcinoma', 'tween', 'the', 'ages', 'of', '50', 'and', '70', 'con.', 'of', 'the', 'lung', 'increases', 'with', 'the', 'tinues', 'to', 'indicate', 'that', 'lung', 'can', '-', 'lamount', 'of', 'cigarette', 'smoking.', 'cer', 'and', 'cigarette', 'smoking', 'go', 'hand-in-hand.', 'less', 'with', 'pipe', 'smokers', 'dr.', 'e.', 'cuyler', 'hammond', ',', 'diree-j', 'lung', 'cancer', 'also', 'appears', 'to', 'be', 'tor', ',', 'and', 'dr.', 'daniel', 'horn', ',', 'assist', ':', '{', 'associated', 'with', 'pipe', 'smoking', 'but', 'ant', 'director', 'of', 'statistical', 're', '‘', 'to', 'a', 'far', 'lesser', 'degree', 'than', 'with', 'search', ',', 'reported', 'today', 'at', 'the', '{', 'cigarette', 'smoking.', 'there', 'seems', '104th', 'annual', 'meeting', 'of', 'the', '!', 'to', 'be', 'no', 'significant', 'tieup', 'between', 'american', 'medical', 'association', 'on', '{', 'cigar', 'smoking', 'and', 'lung', 'cancer.', 'a', '2-month', 'follow-up', 'on', 'the', 'the', 'rate', 'of', 'lung', 'cancer', 'was', 'smoking', '‘', 'habits', 'and', 'fate', 'of', 'menyhigh', 'in', 'cigarette', 'smokers', 'and', 'low', 'in', 'this', 'age', 'group.', 'in', 'non-smokers', 'regardless', 'of', 'the', 'report', 'is', 'an', 'extension', 'of', '|', 'whether', 'they', 'lived', 'in', 'a', 'city', 'or', 'in', 'the', 'ene', 'at', 'the', 'ama', 'convention', '!', 'the', 'country.', 'however', ',', 'smoking', 'last', 'year', 'dealing', 'with', 'overalljhabits', 'were', 'not', 'able', 'to', 'account', 'death', 'rates', 'that', ',', 'caused', 'tobacco', '}', 'for', 'all', 'of', 'the', 'higher', 'death', 'rate', 'stocks', 'to', 'plummet', 'a', 'total', 'of', '$', '77', ',-|', 'from', 'lung', 'cancer', 'in', 'urban', 'areas', '000,000', 'in', 'a', 'few', 'days.', 'oo', 'with', 'rural', 'areas.', 'during', 'the', 'months', 'of', 'the', 'bare', 'among', 'non-smokers', '|', 'survey', 'there', 'were', '152', 'deaths', 'today', \"'s\", 'report.', 'concentrating', 'from', 'earcinoma', 'of', 'the', 'lung', 'mainly', 'on', 'the', 'most', 'widespread', 'among', 'the', '108000', 'men', 'who', 'said', 'type', 'of', 'lung', 'cancer', ',', 'carcinoma', ',', 'cam', ':', 'to', 'these', 'conclusions', ':', 'ratio', 'of', '145', 'out', 'of', 'every', '100,000.', 'compares', 'with', 'a', 'death', 'rate', 'men', 'who', 'have', 'never', 'smoked.', '”', 'it', 'is', '“', 'an', 'important', 'cause', 'of', 'death', 'among', 'men', 'i', '“', 'in', 'this', 'group', 'the', 'rate', 'for', 'men', 'smoking', 'twoor', 'more', ',', '.', 'packs', 'of', 'cigarettes', 'a', 'day.', '\"', 'iwith', 'history', 'of', 'regular', 'cigar-there', 'were', '4430', 'men', 'who', 'cle', 'smoking', 'was', 'about', '29', 'times', 'smoked', 'two', 'packs', 'or', 'more', 'in', 'the', '%', '8', 'high', 'as', 'the', 'rate', 'for', 'men', 'who', 'never', 'smoked', ',”', 'the', 'doctors', 're', '-', 'ported.', 'the', 'evening', 'bulletin', 'industryraps', '|\"', 'sue', '\"', '6,isss', 'cancer', 'report', '|', 'ov.', '\"', 'scoerar', 'ars', 'attacks', 'figures', 'new', 'york', ',', 'june', '6', '—(', 'up', ')—', 'timothy', 'b.', 'hartnett', ',', 'chairman', 'of', 'the', 'tobacco', 'industry', 'research', 'comittee', ',', 'today', 'urged', 'smokers', 'mot', 'to', 'be', '“', 'misled', 'by', 'sweeping', 'generalities', '”', 'in', 'a', 'doctors’', 'report', 'on', 'the', 'relationship', 'between', 'jat', 'the', 'start', 'of', 'the', 'survay', 'over', 'three', 'years', 'ago', ',”', 'he', 'sald.', 'hartnett', 'also', 'charged', 'that', 'the', 'quertionnaire', 'used', 'by', 'drs.', 'e', 'cuyler', 'hammond', 'and', 'daniel', 'horn', 'contained', 'bias', '“', 'so', 'great', 'as', 'to', 'make', 'questionable', 'the', 'validity', '{', 'ef', 'any', 'conclusions', '...”', 'same', 'of', 'amoking', 'and', 'lung', 'cancer.', '—', '§', 'uhe', 'questions', 'were', 'yeading', ',', 'hort-hartnett', ',', '@', 'hose', 'organization', ']', 'nett', 'said', ',', 'and', 'use', 'of', 'the', 'term', 'is', 'conducting', 'its', 'own', 'survey', 'into', '|', '‘', 'heavy', 'smoking', '”', 'suggested', 'excess', 'lung', 'cancer', ',', 'charged', 'that', 'the', 're', '-)', 'which', '“', 'doctors', 'generally', 'oppose', 'port', 'releared', 'today', 'in', 'atlantic', '}', '«..', 'in', 'any', 'human', 'ectivity.', 'city', '“', 'ignores', 'important', 'enviror', '-}|', 'laboratory', 'rescareh', 'during', 'the', 'mental', ',', 'georraphical', ',', 'occupation', '-/', 'past', 'year', 'has', 'failed', 'to', ',', 'provide', 'al', ',', 'physical', 'and', 'emotional', 'factors', '/', '@', 'ny', 'proof', 'that', 'smoking', 'causes', 'eflecting', 'disease', 'and', 'longevity.', '”', '|', 'lung', 'cancer.', 'hartnett', 'sald.', 'they', 'smoked', 'regularly.', 'this', 'is', 'ai', 'eg', '“', 'the', 'rate', 'for', 'two-pack-a-day-or-more', 'cigarette', 'smokers', 'is', 'over', '90', 'times', 'as', 'high', 'as', 'the', 'rate', 'for', 'men', 'who', 'have', 'never', 'smoked', ',”', 'the', 'report', 'went', 'on.', '“', 'the', 'rate', 'for', 'men', 'who', 'have', 'given', 'up', 'cigarette', 'smoking', 'is', '14', 'times', 'as', 'high', 'as', 'the', 'rate', 'for', 'men', 'who', 'have', 'never', 'smoked', 'but', 'only', 'half', 'as', 'high', 'as', 'for', 'men', 'who', 'were', 'smoking', 'less', 'than', 'a', 'pack', 'of', 'cigarettes', 'a', 'da', ')', 'at', 'the', 'time', 'of', 'que-tinnine.', '”', '|', 'in', 'the', 'light', 'of', 'these', 'findings.', '{', 'ir', 'doctors', 'said', ',', 'it', 'seems', 'prob-able', 'that', 'giving', 'up', 'smoking', 'even', 'after', 'years', 'of', 'regular', 'smoking', 'may', 'result', 'in', 'a', 'reduction', 'in', 'the', 'rivk', 'of', 'developing', 'sung', 'cancer.', 'however', ',', 'the', 'number', 'of', 'cases', ':', 'mow', 'available', 'for', 'detailer', '!', 'analy', '-*', 'sis', 'is', 'not', 'great', 'enough', 'to', 'state', 'that', 'such', 'a', 'conclusion', 'has', 'been', ';', 'proved', 'beyond', 'reasonable', 'doubt.', '\"', 'more', 'evidence', 'is', 'needed', ',', 'they’', 'sai', ':', 'survey', 'of', 'specialists', 'tn', 'another', 'type', 'of', 'survey', 'con', '-|', 't', 'ducied', 'by', 'the', 'american', 'cancer', 'society', ',', 'a', 'majority', 'of', 'chest', 'sur-geons', ',', 'cancer', 'researchers', 'and', 'pathologists', 'who', 'were', 'questiou-ed', 'said', 'they', 'believed', 'heavy', 'agar-ette', 'smoking', 'may', 'lead', 'to', 'lung', 'cancer.', 'dr.', 'charles', 's.', 'cameron', ',', 'medi-1', 'and', 'scientific', 'director', 'of', 'the', 'acs', ',', 'reported', 'on', 'the', 'results', 'of', 'a', 'prg', 'sued', '?', 'the', 'evening', 'bulletin', 'fniladelphia', ',', 'penna.', 'june', '6', ',', '1955', 'sixty-three', 'per', 'cent', 'of', 'the', 'chest', 'surgeons.', '54', 'per', 'cent', 'of', 'the', 'researchers', 'and', 'half', 'of', 'the', 'path-ologists', 'checkei', '“', 'yes', '”', 'to', 'the', 'statement', 'that', 'heavy', 'smoking', 'of', 'cigarettes', 'may', 'lead', 'to', 'lung', 'can-cer', ',', 'the', '“', 'no', \"'s\", '”', 'ranged', 'from', 'four', 'to', 'seven', 'per', 'cent.', 'the', 'remainder', 'were', 'uncertain.', 'the', '\\\\-', 'o', 'reports', 'were', 'presented', 'at', 'a', 'symposium', 'on', '@', 'ancer', 'and', 'medicine', 'at', 'the', 'opening', 'session', '{', 'of', 'the', 'ama', 'convention.', '25,000', 'are', 'attending', 'some', '13.000', 'doctors', 'and', '12,000', 'guests', 'are', 'scheduled', 'to', 'attend', 'the', 'week-long', 'series', 'of', 'meetings.', 'on', 'tuesday', 'evening.', 'dr.', 'elmer', '|', 'hess.', 'of', 'erie', ',', 'will', 'be', 'inaugurated', 'as', 'president', 'of', 'the', 'ama.', 'he', 'suce', 'ceeds', 'dr.', 'walter', 'b.', 'martin', ',', 'of', 'norfolk', ',', 'va.', 'another', 'highlight', 'of', 'the', 'con-vention', 'will', 'be', 'a', 'symposium', 'on', 'the', 'contro', '!', 'of', 'polio.', 'among', 'the', 'experts', 'scheduled', 'to', 'participate', 'are', 'dr.', 'jonas', 'e.', 'salk', ',', 'developer', 'of', 'the', 'polio', 'vaccine', ';', 'dr.', 'leonard', 'a.', 'scheele', ',', 'surgeon', 'general', 'of', 'the', 'u.', 's.', 'public', 'health', 'service.', 'and', 'dr.', 'thomas', 'francis', ',', 'jr', ',', 'of', 'the', 'university', 'of', 'michigan.', 'who', 're-ported', 'on', 'the', 'success', 'of', 'the', 'vac', 'cine', 'used', 'in', 'a', 'mass', 'test', 'last', 'year.', 'detroit', 'free', 'press', 'detroit', ',', 'michigan', 'june', '7', ',', '1955', 'doctors', 'file', 'report', 'cancer', 'danger', 'seen', 'in', 'use', 'of', 'whisky', 'gpoelal', 'to', 'the', 'free', 'press', 'atlantic', 'city', '—', 'whisky-drinking', 'has', 'been', 'added', 'to', 'smoking', 'as', 'a', 'possible', 'cause', 'of', 'cancer', ',', 'three', 'physicians', 'revealed', 'here', 'monday', 'in', 'a', 'report', 'to', 'the', 'american', 'medical', 'association.', 'the', 'risk', 'of', 'tons', 'greatiy', 'or', 'voice', 'larynx', ',', '2', 'cia', ',', 'by', 'haa', 'ema', 'with', 'heavy', 'drinking.', 'port', 'on', 'interviews', 'in', 'sweden', ',', 'india', 'an', '¢', 'the', 'united', 'states', ',', 'ben', 'more', 'than', 'siz', 'eamokers', ',', 'they', 'found', ',', 'ut', 'the', 'same', 'risk', 'as', 'men', 'who', 'amoke', '16', 'to', '34', 'cigarets', '——', 'ae', 'and', 'run', 'oking', 'alone', ',', 'or', 'com', '-/', 'dally', ',', 'from', 'this', 'and', 'other', 'studies', ',', 'opinion', 'research', 'authorities', '”', 'con', '-', 'they', 'sald', 'the', 'risk', 'of', 'cancer', 'inj', 'sidered', 'that', 'the', 'poll', 'was', '“', 'biased', ',', 'tha', 'larynx', 'increases', 'with', 'tho', '/', 'nonscientific', 'q', '@', 'mount', 'of', 'elgarets', 'amoked.', 'cigariahortcomings', 'and', 'and', 'filled', 'with', 'defect', '”', 'sen.', 'bs', 'everett', 'jordan', ':', 'repe', 'le', 'h.', 'fountain', ':', 'rep.', 'harley', 'staggers', ':', 'rep.', 'edward', 'i.koch', ':', 'hkeo485294', '“', 'regarded', 'the', 'fcc', 'ban', 'as', '‘', 'an', 'unwarranted', ',', '111-advised', 'and', 'improper', 'effort', 'to', 'extend', 'governnent', 'control', 'over', 'business', 'and', 'industry', 'by', 'administrative', 'dictation.', '\"\"]', 'regard', 'the', 'proposal', 'of', 'the', 'federal', 'communications', 'commission', 'for', 'a', 'ban', 'on', 'advertising', 'of', 'cigarettes', 'through', 'television', 'and', 'radio', 'media', 'as', 'an', 'unwarranted', ',', '111l', '~', 'advised', 'and', 'improper', 'effort', 'to', 'extent', 'government', 'control', 'over', 'business', 'and', 'industry', 'by', 'administrative', 'dictation.', '\"', 'tle', '4s', 'an', 'extention', 'of', 'earlier', 'efforts', ',', 'successfully', 'resisted', 'so', 'far', 'by', 'congress', ',', 'by', 'both', 'the', 'federal', 'trade', 'commission', 'and', 'the', 'fcc', 'to', 'exereise', 'control', 'over', 'the', 'tobacco', 'industry', 'beyond', 'the', 'extent', 'of', 'their', 'authority', 'and', 'in', 'an', 'area', 'properly', 'reserved', 'for', 'legislative', 'jurisdiction', ',', '’', '(', 'upi', '2', '/', '5', '/', '69', ')', '\"', 'said', 'he', 'knew', 'of', 'no', 'legal', 'authority', 'by', 'which', 'fcc', 'could', 'enforce', 'its', 'proposed', 'ban', 'on', 'broadcast', 'cigarette', 'advertising.', '\"', '(', 'upi', '2', '/', '5', '/', '69', ')', '\"', 'forecasting', 'early', 'hearings', 'on', 'the', 'issue', ',', 'offered', 'a', 'critical', 'comment', 'that', 'seemed', 'to', 'reflect', 'a', 'common', '‘', 'attitude', 'on', 'the', 'part', 'of', 'committee', 'nembers', ',.', '\"\\'', 't', 'think', 'some', 'of', 'the', 'regulatory', 'agencies', 'are', 'doing', 'sone', 'of', 'those', 'things', 'the', 'wrong', 'way.', '.', '\"\\'', 'rhey', \"'ve\", 'been', 'guilty', 'of', 'it', 'before', '=-', 'taking', 'a', 'stand', 'of', 'this', 'kind', 'on', 'an', 'issue', 'which', 'they', 'know', 'the', 'congress', 'would', 'probably', 'be', 'considering', 'shortly.', '1', 'do', \"n't\", 'think', 'congress', 'likes', 'this', 'approach', '--', 'and', 'that', 'is', 'without', 'regard', 'to', 'the', 'particular', 'issue', 'of', 'cigarette', 'smoking.', '\\'\"', '(', 'upi', '2', '/', '5', '/', '69', ')', '\"', 'a', 'federal', 'communications', 'proposal', 'to', 'ban', 'cigarette', 'advertising', 'from', 'television', 'and', 'radio', 'was', '‘', 'long', 'overdue.’', '\"', 'he', 'will', 'do', 'what', 'he', 'can', 'to', 'whip', 'up', 'congressional', 'support', 'for', 'the', 'fcc', 'proposal', ',', 'he', 'called', 'on', 'members', 'of', 'the', 'public', 'to', 'direct', 'their', 'support', 'to', 'the', 'fcc', '-', 'and', 'their', 'congresamen.', '\"\"', 'we', 'are.', 'going', 'to', 'have', 'a', 'fight', 'on', 'our', 'hands', ',\\'\"', '(', 'upt', '2', '/', '5', '/', '69', ')', '\\\\', 'ff', 'principal', 'investigator', '/', 'program', 'director', '(', 'last', ',', 'first', ',', 'middle', ')', ':', 'biographical', 'sketch', 'give', 'the', 'following', 'information', 'for', 'the', 'key', 'personnel', 'and', 'consultants', 'and', 'collaborators.', 'begin', 'with', 'the', 'principal', 'investigator', '/', 'program', 'director.', 'photocopy', 'this', 'page', 'for', 'each', 'person.', 'position', 'title', 'james', 't.', 'kadonaga', 'associate', 'professor', 'education', '(', 'begin', 'with', 'baccalaureate', 'or', 'other', 'initial', 'professional', 'education', ',', 'such', 'as', 'nursing', ',', 'and', 'include', 'postdoctoral', 'training.', ')', 'year', 'degree', 'conferred', 'field', 'of', 'study', 'institution', 'and', 'location', 'massachusetts', 'institute', 'of', 'technology', '1980', 'chemistry', 'harvard', 'university', '1982', 'chemistry', 'harvard', 'university', '1984', 'chemistry', 'university', 'of', 'california', ',', 'berkeley', 'postdoc', '1984-88', 'biochemistry', 'research', 'and', 'professional', 'experience', ':', 'concluding', 'with', 'present', 'position', ',', 'list', ',', 'in', 'chronological', 'order', ',', 'previous', 'employment', ',', 'experience', ',', 'and', 'honors.', 'key', 'personnel', '!', 'include', 'the', 'principal', 'investigator', 'and', 'any', 'other', 'individuals', 'who', 'participate', 'in', 'the', 'scientific', 'development', 'or', 'execution', 'of', 'the', 'project.', 'key', 'personnel', 'typically', 'will', 'include', 'all', 'individuals', 'with', 'doctoral', 'or', 'other', 'professional', 'degrees', ',', 'but', 'in', 'some', 'projects', 'will', 'include', 'individuals', 'at', 'the', 'masters', 'or', 'baccalaureate', 'level', 'provided', 'they', 'contribute', 'in', 'a', 'substantive', 'way', 'to', 'the', 'scientific', 'development', 'or', 'execution', 'of', 'the', 'project.', 'include', 'present', 'membership', 'on', 'any', 'federal', 'government', 'public', 'advisory', 'committee.', 'list', ',', 'in', 'chronological', 'order', ',', 'the', 'titles', ',', 'all', 'authors', ',', 'and', 'complete', 'references', 'to', 'all', 'publications', 'during', 'the', 'past', 'three', 'years', 'and', 'to', 'representative', 'earlier', 'publications', 'pertinent', 'to', 'this', 'application.', 'if', 'the', 'list', 'of', 'publications', 'in', 'the', 'fast', 'three', 'years', 'exceeds', 'two', 'pages', ',', 'select', 'the', 'most', 'pertinent', 'publications.', 'do', 'not', 'exceed', 'two', 'pages.', 'research', '1980-34', 'graduate', 'student.', 'harvard', 'university.', 'advisor', ':', 'j.', 'r.', 'knowles.', '1984-38', 'postdoctoral', 'research', 'fellow.', 'uc', 'berkeley.', 'advisor', ':', 'r.', 'tjian.', '1988-92', 'assistant', 'professor', 'of', 'biology.', 'university', 'of', 'calfornia', ',', 'san', 'diego.', '1992-present', 'associate', 'professor', 'of', 'biology.', 'university', 'of', 'california', ',', 'san', 'diego.', 'academic', 'honors', '1980', 'alpha', 'chi', 'sigma', 'prize', ';', 'massachusetts', 'institute', 'of', 'technology', '1980', 'american', 'institute', 'of', 'chemists', 'certificate', ';', 'massachusetts', 'institute', 'of', 'technology', '1983-84', 'du', 'pont', 'fellow', ';', 'harvard', 'university', '1984-86', 'fellow', 'of', 'the', 'miller', 'institute', 'for', 'basic', 'research', 'in', 'science', ';', 'uc', 'berkeley', '1986-87.', 'senior', 'fellow', 'of', 'the', 'american', 'cancer', 'society', ',', 'california', 'division', ';', 'uc', 'berkeley', '1987-93', 'lucille', 'p.', 'markey', 'scholar', 'in', 'biomedical', 'sciences', '1989-91', 'eli', 'lilly', 'biochemistry', 'award', '1992-97', 'presidential', 'faculty', 'fellow', 'award', '1994', 'fellow', 'of', 'the', 'american', 'association', 'for', 'the', 'advancement', 'of', 'science', 'scientific', 'activities', '1989-present', 'co-organizer.', 'course', 'on', '\"', 'protein', 'purification', 'and', 'characterization.', '\"', 'held', 'annually', 'at', 'cold', 'spring', 'harbor', 'laboratory.', '1990-present', 'editorial', 'board', 'of', 'protein', 'expression', '&', 'purification.', '1992-94', 'member', 'of', 'national', 'science', 'foundation', 'grant', 'review', 'panel.', '1993-95', 'editorial', 'board', 'of', 'molecular', '&', 'cellular', 'biology.', '1994-present', 'editorial', 'board', 'of', 'genes', '&', 'development.', '1995', 'co-organizer.', 'faseb', 'summer', 'conference', 'on', '“', 'chromatin', 'and', 'transcription.', '\"', '1996', 'co-organizer.', 'faseb', 'summer', 'conference', 'on', '“', 'transcriptional', 'regulation', 'during', 'cell', 'growth', ',', 'differentiation', ',', 'and', 'development.', '”', 'ae', 'phs', '398', '(', 'rev.', '9', '/', '91', ')', '(', 'form', 'page', '6', ')', 'page', '_', 'ff', 'number', 'pages', 'consecutively', 'at', 'the', 'bottom', 'throughout', 'the', 'application.', 'do', 'not', 'use', 'suffixes', 'such', 'as', '3a', ',', '3b', '.', ';', 'james', 't.', 'kadonaga', '—', 'selected', 'relevant', 'publications', '(', 'out', 'of', 'a', 'total', 'of', '40', ')', '10.', 'll', '12.', '13.', '14', ',', '15.', '16.', '17.', '.', '18.', '19.', '20.', 'kadonaga', ',', 'j.', 't.', ',', 'and', 'tjian', ',', 'r.', '(', '1986', ').', 'affinity', 'purification', 'of', 'sequence-specific', 'dna', 'binding', 'proteins.', 'proc.', 'natl.', 'acad.', 'sci.', 'u.s.a.', '83', ',', '5889-5893.', 'kadonaga', ',', 'j.', 't.', ',', 'carner', ',', 'k.', 'r.', ',', 'masiarz', ',', 'f.', 'r.', ',', 'and', 'tjian', ',', 'r.', '(', '1987', ').', 'isolation', 'of', 'cdna', 'encoding', 'transcription', 'factor', 'sp1', 'and', 'functional', 'analysis', 'of', 'the', 'dna', 'binding', 'domain.', 'cell', '51', ',', '1079-1090.', '.', 'kadonaga', ',', 'j.', 't.', ',', 'courey', ',', 'a.', 'j.', ',', 'ladika', ',', 'j.', ',', 'and', 'tjian', ',', 'r.', '(', '1988', ').', 'distinct', 'regions', 'of', 'sp1', 'modulate', 'dna', 'binding', 'and', 'transcriptional', 'activation.', 'science', '242', ',', '1566-1570.', 'kadonaga', ',', 'j.', 't.', '(', '1990', ').', 'assembly', 'and', 'disassembly', 'of', 'the', 'drosophila', 'rna', 'polymerase', 'i', 'complex', 'during', 'transcription.', 'j.', 'biol.', 'chem.', '265', ',', '2624-2631.', 'wampler', ',', 's.', 'l.', ',', 'tyree', ',', 'c.', 'm.', ',', 'and', 'kadonaga', ',', 'j.t.', '(', '1990', ').', 'fractionation', 'of', 'the', 'general', 'rna', 'polymerase', 'ii', 'transcription', 'factors', 'from', 'drosophila', 'embyros.', 'j.', 'biol.', 'chem.', '265', ',', '21223-21231.', 'kerrigan', ',', 'l.', 'a.', ',', 'croston', ',', 'g.', 'e.', ',', 'lira', ',', 'l.', 'm.', ',', 'and', 'kadonaga', ',', 'j.', 't.', '(', '1991', ').', 'sequence-specific', 'transcriptional', 'antirepression', 'of', 'the', 'drosophila', 'kriippel', 'gene', 'by', 'the', 'gaga', 'factor.', 'j.', 'biol.', 'chem', ',', '266', ',', '574-582.', 'kamakaka', ',', 'r.', 't.', ',', 'tyree', ',', 'c.', 'm.', ',', 'and', 'kadonaga', ',', 'j.', 't.', '(', '1991', ')', ',', 'accurate', 'and', 'efficient', 'rna', 'polymerase', 'ii', 'transcription', 'with', 'a', 'soluble', 'nuclear', 'fraction', 'derived', 'from', 'drosophila', 'embyros.', 'proc.', 'natl.', 'acad.', 'sci.', 'usa', '88', ',', '1024-1028.', 'croston', ',', 'g.', 'e.', ',', 'kerrigan', ',', 'l.', 'a.', ',', 'lira', ',', 'l.', ',', 'marshak', ',', 'd.', 'r.', ',', 'and', 'kadonaga', ',', 'j.', 't.', '(', '1991', ').', 'sequenceé-specific', 'antirepression', 'of', 'histone', 'h1-mediated', 'inhibition', 'of', 'basal', 'rna', 'polymerase', 'il', 'transcription.', 'science', '251', ',', '643-649.', 'croston', ',', 'g.', 'e.', ',', 'lira', ',', 'l.', 'm.', ',', 'and', 'kadonaga', ',', 'j.', 't.', '(', '1991', ').', 'a', 'general', 'method', 'for', 'the', 'purification', 'of', 'h1', 'histones', 'that', 'are', 'active', 'for', 'repression', 'of', 'basal', 'rna', 'polymerase', 'ii', 'transcription.', 'protein', 'expression', 'and', 'purification', '2', ',', '162-169.', 'kadonaga', ',', 'j.', 't.', '(', '1991', ').', 'purification', 'of', 'sequence-specific', 'dna', 'binding', 'proteins', 'by', 'dna', 'affinity', 'chromatography.', 'methods', 'enzymol.', '208', ',', '10-23.', 'laybourn', ',', 'p.', 'j.', ',', 'and', 'kadonaga', ',', 'j.', 't.', '(', '1991', ').', 'role', 'of', 'nucleosomal', 'cores', 'and', 'histone', 'h1', 'in', 'regulation', 'of', 'transcription', 'by', 'rna', 'polymerase', 'it.', 'science', '254', ',', '238-245.', 'wampler', ',', 's.', 'l.', ',', 'and', 'kadonaga', ',', 'j.', 't.', '(', '1992', ').', 'functional', 'analysis', 'of', 'drosophila', 'transcription', 'factor', 'itb.', 'genes', '&', 'dev.', '6', ',', '1542-1552.', 'laybourn', ',', 'p.', 'j.', ',', 'and', 'kadonaga', ',', 'j.', 't.', '(', '1992', ').', 'threshold', 'phenomena', 'and', 'long-distance', 'activation', 'of', 'transcription', 'by', 'rna', 'polymerase', 'ii.', 'science', '257', ',', '1682-1685.', 'croston', ',', 'g.', 'e.', ',', 'laybourn', ',', 'p.', 'j.', ',', 'paranjape', ',', 's.', 'm.', ',', 'and', 'kadonaga', ',', 'j.', 't.', '(', '1992', ').', 'mechanism', 'of', 'transcriptional', 'antirepression', 'by', 'gal4-vp16.', 'genes', '&', 'dev.', '6', ',', '2270-2281.', 'kerrigan', ',', 'l.', 'a.', ',', 'and', 'kadonaga', ',', 'j.', 't.', '(', '1992', ').', 'periodic', 'binding', 'of', 'individual', 'core', 'histones', 'to', 'dna', ':', 'inadvertent', 'purification', 'of', 'the', 'core', 'histone', 'h2b', 'as', 'a', 'putative', 'enhancer-binding', 'factor.', 'nucleic', 'acids', 'res.', '20', ',', '6673-6680.', 'croston', ',', 'g.', 'e.', ',', 'and', 'kadonaga', ',', 'j.', 't.', '(', '1993', ').', 'role', 'of', 'chromatin', 'structure', 'in', 'the', 'regulation', 'of', 'transcription', 'by', 'rna', 'polymerase', 'ii.', 'curr.', 'opin.', 'cell', 'biol.', '5', ',', '417-423.', 'kamakaka', ',', 'r.', 't.', ',', 'and', 'kadonaga', ',', 'j.', 't.', '(', '1993', ').', 'biochemical', 'analysis', 'of', 'the', 'role', 'of', 'chromatin', 'structure', 'in', 'the', 'regulation', 'of', 'transcription', 'by', 'rna', 'polymerase', 'il.', 'cold', 'spring', 'harbor', 'symp.', 'quant.', 'biol.', '58', ',', '205-212.', 'tyree', ',', 'c.', 'm.', ',', 'george', ',', 'c.', 'p.', ',', 'devito', ',', 'l.', 'm.', ',', 'wampler', ',', 's.', 'l.', ',', 'dahmus', ',', 'm.', 'e.', ',', 'zawel', ',', 'l.', ',', 'and', 'kadonaga', ',', 'j.', 't.', '(', '1993', ').', 'identification', 'of', 'minimal', 'set', 'of', 'proteins', 'that', 'is', 'sufficient', 'for', 'accurate', 'initiation', 'of', 'transcription', 'by', 'rna', 'polymerase', 'ii.', 'genes', '&', 'dev.', '7', ',', '1254-1265.', 'kamakaka', ',', 'r.', 't.', ',', 'bulger', ',', 'm.', ',', 'and', 'kadonaga', ',', 'j.', 't.', '(', '1993', ').', 'potentiation', 'of', 'rna', 'polymerase', 'ii', 'transcription', 'by', 'gal4-vp16', 'during', 'but', 'not', 'after', 'dna', 'replication', 'and', 'chromatin', 'assembly.', 'genes', '&', 'dev.', '7', ',', '1779-1795.', 'paranjape', ',', 's.', 'm.', ',', 'kamakaka', ',', 'r.', 't.', ',', 'and', 'kadonaga', ',', 'j.', 't.', '(', '1994', ').', 'role', 'of', 'chromatin', 'structure', 'in', 'the', 'regulation', 'of', 'transcription', 'by', 'rna', 'polymerase', 'it.', 'annu.', 'rev.', 'biochem.', '63', ',', '265-297.', '4']\n"
     ]
    }
   ],
   "source": [
    "print(contractions_full)\n",
    "target_vocab = contractions_full"
   ]
  },
  {
   "cell_type": "code",
   "execution_count": 49,
   "metadata": {},
   "outputs": [
    {
     "name": "stdout",
     "output_type": "stream",
     "text": [
      "6020\n"
     ]
    }
   ],
   "source": [
    "emb_dim =100\n",
    "matrix_len = len(target_vocab)\n",
    "print(matrix_len)\n",
    "weights_matrix = np.zeros((matrix_len, 100))\n",
    "words_found = 0"
   ]
  },
  {
   "cell_type": "code",
   "execution_count": 50,
   "metadata": {},
   "outputs": [
    {
     "data": {
      "text/plain": [
       "'the'"
      ]
     },
     "execution_count": 50,
     "metadata": {},
     "output_type": "execute_result"
    }
   ],
   "source": [
    "target_vocab[1]"
   ]
  },
  {
   "cell_type": "code",
   "execution_count": 52,
   "metadata": {},
   "outputs": [],
   "source": [
    "for i, word in enumerate(target_vocab):\n",
    "    try: \n",
    "        weights_matrix[i] = glove[word]\n",
    "        words_found += 1\n",
    "    except KeyError:\n",
    "        weights_matrix[i] = np.random.normal(scale=0.6, size=(emb_dim, ))"
   ]
  },
  {
   "cell_type": "code",
   "execution_count": 55,
   "metadata": {},
   "outputs": [
    {
     "data": {
      "text/plain": [
       "array([-0.038194, -0.24487 ,  0.72812 , -0.39961 ,  0.083172,  0.043953,\n",
       "       -0.39141 ,  0.3344  , -0.57545 ,  0.087459,  0.28787 , -0.06731 ,\n",
       "        0.30906 , -0.26384 , -0.13231 , -0.20757 ,  0.33395 , -0.33848 ,\n",
       "       -0.31743 , -0.48336 ,  0.1464  , -0.37304 ,  0.34577 ,  0.052041,\n",
       "        0.44946 , -0.46971 ,  0.02628 , -0.54155 , -0.15518 , -0.14107 ,\n",
       "       -0.039722,  0.28277 ,  0.14393 ,  0.23464 , -0.31021 ,  0.086173,\n",
       "        0.20397 ,  0.52624 ,  0.17164 , -0.082378, -0.71787 , -0.41531 ,\n",
       "        0.20335 , -0.12763 ,  0.41367 ,  0.55187 ,  0.57908 , -0.33477 ,\n",
       "       -0.36559 , -0.54857 , -0.062892,  0.26584 ,  0.30205 ,  0.99775 ,\n",
       "       -0.80481 , -3.0243  ,  0.01254 , -0.36942 ,  2.2167  ,  0.72201 ,\n",
       "       -0.24978 ,  0.92136 ,  0.034514,  0.46745 ,  1.1079  , -0.19358 ,\n",
       "       -0.074575,  0.23353 , -0.052062, -0.22044 ,  0.057162, -0.15806 ,\n",
       "       -0.30798 , -0.41625 ,  0.37972 ,  0.15006 , -0.53212 , -0.2055  ,\n",
       "       -1.2526  ,  0.071624,  0.70565 ,  0.49744 , -0.42063 ,  0.26148 ,\n",
       "       -1.538   , -0.30223 , -0.073438, -0.28312 ,  0.37104 , -0.25217 ,\n",
       "        0.016215, -0.017099, -0.38984 ,  0.87424 , -0.72569 , -0.51058 ,\n",
       "       -0.52028 , -0.1459  ,  0.8278  ,  0.27062 ])"
      ]
     },
     "execution_count": 55,
     "metadata": {},
     "output_type": "execute_result"
    }
   ],
   "source": [
    "weights_matrix[1]"
   ]
  },
  {
   "cell_type": "code",
   "execution_count": 56,
   "metadata": {},
   "outputs": [
    {
     "data": {
      "text/plain": [
       "5347"
      ]
     },
     "execution_count": 56,
     "metadata": {},
     "output_type": "execute_result"
    }
   ],
   "source": [
    "words_found"
   ]
  },
  {
   "cell_type": "code",
   "execution_count": 58,
   "metadata": {},
   "outputs": [],
   "source": [
    "def create_emb_layer(weights_matrix, non_trainable=False):\n",
    "    num_embeddings, embedding_dim = weights_matrix.size()\n",
    "    emb_layer = nn.Embedding(num_embeddings, embedding_dim)\n",
    "    emb_layer.load_state_dict({'weight': weights_matrix})\n",
    "    if non_trainable:\n",
    "        emb_layer.weight.requires_grad = False\n",
    "\n",
    "    return emb_layer, num_embeddings, embedding_dim"
   ]
  },
  {
   "cell_type": "code",
   "execution_count": null,
   "metadata": {},
   "outputs": [],
   "source": []
  }
 ],
 "metadata": {
  "kernelspec": {
   "display_name": "Python (dl)",
   "language": "python",
   "name": "dl"
  },
  "language_info": {
   "codemirror_mode": {
    "name": "ipython",
    "version": 3
   },
   "file_extension": ".py",
   "mimetype": "text/x-python",
   "name": "python",
   "nbconvert_exporter": "python",
   "pygments_lexer": "ipython3",
   "version": "3.6.8"
  }
 },
 "nbformat": 4,
 "nbformat_minor": 2
}
